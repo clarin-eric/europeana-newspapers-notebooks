{
 "cells": [
  {
   "cell_type": "markdown",
   "id": "9d95b42d-f8ed-41af-a21b-53fd5aa96256",
   "metadata": {},
   "source": [
    "# Exercise 1: Navigating a Notebook and Running Cells\n",
    "\n",
    "In this exercise, we will cover the very basic usage of a Jupyter notebook. If you think you already have these skills, we recommend running all cells, reviewing the contents and output, and using this knowledge to move on to [Exercise 2](./Exercise2.ipynb).\n",
    "\n",
    "----\n",
    "## Exercise 1.1\n",
    "To get started, **click on the cell (grey area) right below this text and press the key combination _Shift-Enter_**"
   ]
  },
  {
   "cell_type": "code",
   "execution_count": null,
   "id": "5c51ea62-15a0-4df9-b095-029742393adf",
   "metadata": {},
   "outputs": [],
   "source": [
    "my_text = 'This is my first notebook cell'\n",
    "print(my_text)"
   ]
  },
  {
   "cell_type": "markdown",
   "id": "afde52f5-e7f0-46f8-b5da-ab8cde7a901b",
   "metadata": {},
   "source": [
    "----\n",
    "As you now see, pressing _Shift-Enter_ caused some text to appear below the cell. This text is _output_ resulting from the execution of the commands defined in the active cell. This execution is also called _running_ a cell. \n",
    "\n",
    "A blue line to the side of a cell indicates that it is currently the active cell. As you can see, the blue line has moved down to the side of this text. The key combination _Shift-Enter_ does two things: it runs the active cell and after that it activates the next cell. You can always click on any cell to make it active; alternatively, you can use the arrow keys on your keyboard to move up and down in the notebook.\n",
    "\n",
    "Text cells such as this one can also be run, but this does not result in output below the cell. \n",
    "\n",
    "**Press _Shift-Enter_ to move on to the next cell.**"
   ]
  },
  {
   "cell_type": "markdown",
   "id": "96f37174-545e-4d37-a25a-264baa2fb4b7",
   "metadata": {},
   "source": [
    "----\n",
    "## Exercise 1.2\n",
    "We are now going to change the commands inside a cell. Below you will find an adapted version of the first cell.\n",
    "\n",
    "**a)** Activate the cell below. After that, press **Ctrl-Enter** to run it (notice the different key combination!). As you will see, the output appears below the cell, but the cell remains active, i.e. the blue line does not move on to the next cell.\n",
    "\n",
    "**b)** After running the cell, click somewhere inside the cell to start edit mode. You can now make changes just like in a text document. Change the text on the second line from `'first cell'` to `'second cell'`. Then press **Ctrl-Enter** to run the cell again. Check that the output is replaced by new output that reflects your change in the cell.\n",
    "\n",
    "**c)** Change the cell content one more time: remove the very last closing parenthesis (`)`) on the end of the third line and run the cell. This time the area below the cell turns red, indicating an error. Because of the change in the cell, the programme carrying out the commands inside a cell (which is called _kernel_) does not know how to do this. The content of the error message tells us what is wrong - it expects something to come at the end of the line but does not find anything. Revert your change and run the cell again, and confirm that the error goes away."
   ]
  },
  {
   "cell_type": "code",
   "execution_count": null,
   "id": "98388d2f-0eab-4bd0-9220-268298ac3c2d",
   "metadata": {},
   "outputs": [],
   "source": [
    "beginning = 'This is my '\n",
    "end = 'first cell'\n",
    "print(beginning + end)"
   ]
  },
  {
   "cell_type": "markdown",
   "id": "8b2c88b8-51f4-4d75-a875-a1a97911d92f",
   "metadata": {},
   "source": [
    "----\n",
    "## Exercise 1.3\n",
    "\n",
    "You now know how to activate and run individual cells. Before moving on to the next exercise, it is good to know that there are several helpful options available for running multiple cells or entire notebooks. Have a look at the **'Run' menu** at the top of the page and try the following option, and see what they do:\n",
    "- **Run all above selected cell**\n",
    "- **Run all cells**\n",
    "\n",
    "Now make some changes to the cell that you have edited previously, and try out these menu options again.\n",
    "\n",
    "----\n",
    "Note: you may have accidentally or intentionally created new (empty) cells. This is perfectly fine. If you would like to remove a cell, you need activate it first, and make sure that you are not editing it (press **Esc** to stop editing). Then select **Delete cells** from the **Edit** menu _or_ press the **d** key twice.\n",
    "\n",
    "You can always undo your actions by press **CTRL-Z** or selecting **Undo** from the **Edit** menu, just like you are used to from editing any other document."
   ]
  },
  {
   "cell_type": "markdown",
   "id": "68e3a1b6-247f-4268-b2f2-9e7fbe9d1235",
   "metadata": {},
   "source": [
    "----\n",
    "Next: [Exercise 2](./Exercise2.ipynb)"
   ]
  }
 ],
 "metadata": {
  "kernelspec": {
   "display_name": "Python 3 (ipykernel)",
   "language": "python",
   "name": "python3"
  },
  "language_info": {
   "codemirror_mode": {
    "name": "ipython",
    "version": 3
   },
   "file_extension": ".py",
   "mimetype": "text/x-python",
   "name": "python",
   "nbconvert_exporter": "python",
   "pygments_lexer": "ipython3",
   "version": "3.7.12"
  }
 },
 "nbformat": 4,
 "nbformat_minor": 5
}
