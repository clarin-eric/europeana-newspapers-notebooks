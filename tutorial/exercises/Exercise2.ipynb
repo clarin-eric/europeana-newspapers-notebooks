{
 "cells": [
  {
   "cell_type": "markdown",
   "id": "9d95b42d-f8ed-41af-a21b-53fd5aa96256",
   "metadata": {
    "tags": []
   },
   "source": [
    "# Exercise 2: Working with Metadata and other Files\n",
    "\n",
    "In this exercise you will learn how to extract information from metadata, and how to work with files in general. If you think you already have these skills, we recommend running all the cells, reviewing the contents and output, and using this knowledge to move on to [Exercise 3](./Exercise3.ipynb).\n",
    "\n",
    "----\n",
    "Before we can run the cells in this exercise, we need to install and 'import' some packages. Run the following cell. Don't worry about understanding everything that is happening here for the moment, but verify that it completes without errors in the output.\n",
    "\n",
    "Notice that this is a cell that might take a bit more time to run. While `[*]` is shown next to a cell, this means that it is being processed or waiting to be processed and has not yet completed."
   ]
  },
  {
   "cell_type": "code",
   "execution_count": null,
   "id": "5c51ea62-15a0-4df9-b095-029742393adf",
   "metadata": {},
   "outputs": [],
   "source": [
    "!pip install lxml\n",
    "\n",
    "from lxml import etree\n",
    "import requests\n",
    "\n",
    "%run ../common.py"
   ]
  },
  {
   "cell_type": "markdown",
   "id": "9ea38015-ff4d-4743-b440-a1b402ead151",
   "metadata": {},
   "source": [
    "----\n",
    "## Exercise 2.1\n",
    "In this exercise we will take a real metadata file and read some content out of it.\n",
    "\n",
    "We will start by downloading a metadata record that we have [found in a catalogue](https://vlo.clarin.eu/record/https_58__47__47_europeana-oai.clarin.eu_47_metadata_47_fulltext-aggregation_47_9200357_47_Dziennik__l_ski_1915.xml).\n",
    "\n",
    "**Read the following cell and try to understand what it does.** \n",
    "\n",
    "Note that the lines starting with a `#` character are so-called comments, which are used to document code. In this case they are used to explain what is happening on each line."
   ]
  },
  {
   "cell_type": "code",
   "execution_count": null,
   "id": "1a6edfaf-1d66-46b4-b3fd-c26b3bf0e853",
   "metadata": {},
   "outputs": [],
   "source": [
    "# The next line gets a metadata record from a URL, and stores the result in memory. The results gets a name `remote_metadata` for use and reference later on\n",
    "remote_metadata = requests.get('https://europeana-oai.clarin.eu/metadata/fulltext-aggregation/9200357/Dziennik_Wile_ski_1916.xml')\n",
    "\n",
    "# After the next line, the field `text` inside the retrieved data can be referenced using the name `metadata_content`\n",
    "metadata_content = remote_metadata.content\n",
    "\n",
    "# The final line yields a number, which represents the length of the metadata record. Because it is the last line of the cell it is considered\n",
    "# the \"result\" of the cell and therefore is also shown after the cell has finished running\n",
    "len(metadata_content)"
   ]
  },
  {
   "cell_type": "markdown",
   "id": "7e0bb33f-f98b-4324-a4a2-8fe8d64013f0",
   "metadata": {},
   "source": [
    "We now have loaded the metadata locally as a file in memory. The next step is to 'parse' it - that is, read and process the structure of the document so that we can easily query it for values that we are interested in."
   ]
  },
  {
   "cell_type": "code",
   "execution_count": null,
   "id": "c5202271-aa10-45c0-aab9-2692500e3784",
   "metadata": {},
   "outputs": [],
   "source": [
    "# First we have to do the parsing. This results in a so-called 'XML tree', a hierarchical representation of the metadata document.\n",
    "metadata_tree = etree.fromstring(metadata_content)\n",
    "\n",
    "# We can now use the metadata tree variable to see if we can look up the title of the record\n",
    "metadata_tree.xpath('//cmdp_text:TitleInfo/cmdp_text:title/text()', namespaces=nsmap)"
   ]
  },
  {
   "cell_type": "markdown",
   "id": "9b860b8d-d892-46c4-9d29-96a6b22bd2c6",
   "metadata": {},
   "source": [
    "As you may have noticed, we use the `xpath` function which is available when we have a parsed XML tree (`metadata_tree` in the cell above). The name of the function refers to **XPath**, which is a special language that is very commonly used to query XML documents. Its basic functions are easy to use, as can be seen above, but it also has many advanced features. To learn more about XPath, have a look at the [XPath page on Wikipedia](https://en.wikipedia.org/wiki/XPath) or follow [this tutorial](https://www.w3schools.com/xml/xpath_intro.asp).\n",
    "\n",
    "----\n",
    "The following snippet shows a part of the XML document that we have loaded (we encourage you to also have a look at the [full file](https://europeana-oai.clarin.eu/metadata/fulltext-aggregation/9200357/Dziennik__l_ski_1916.xml)):\n",
    "```xml\n",
    "<cmd:CMD>\n",
    "    ...\n",
    "    <cmd:Components>\n",
    "        <cmdp_text:TextResource>\n",
    "            <cmdp_text:TitleInfo>\n",
    "                <cmdp_text:title>Dziennik Śląski - 1916</cmdp_text:title>\n",
    "            </cmdp_text:TitleInfo>\n",
    "            <cmdp_text:Description>\n",
    "                <cmdp_text:description>\n",
    "                    Full text content aggregated from Europeana. Title: \"Dziennik Śląski\". Year: 1916.\n",
    "                </cmdp_text:description>\n",
    "            </cmdp_text:Description>\n",
    "                ...\n",
    "        </cmdp_text:TextResource>\n",
    "    </cmd:Components>\n",
    "</cmd:CMD>\n",
    "```\n",
    "\n",
    "**In the next cell, write a line that returns the _description_ contained in the metadata.**\n",
    "Run the cell and verify that the value matches the description found in the metadata snippet listed above.\n",
    "\n",
    "Note: you can use the `metadata_tree` variable since it has been defined in the previous cell. Variables remain available to use in following cells once they are defined."
   ]
  },
  {
   "cell_type": "code",
   "execution_count": null,
   "id": "6cea6545-4dee-4f12-aedc-546a883768fc",
   "metadata": {},
   "outputs": [],
   "source": [
    "# Write the line below that looks up and returns the value of the description as found in the metadata\n"
   ]
  },
  {
   "cell_type": "markdown",
   "id": "0df9328a-3828-41c3-ab2e-db728db94d9e",
   "metadata": {},
   "source": [
    "Since we probably want to get different kinds of information from different metadata records later on, it would be nice if we could define simpler, shorter commands for doing so. This is possible in Python by defining **functions**. Doing this will make it easier to write complex code, without having to repeat yourself while reducing the chance of making errors and making it easier to make improvements and other changes.\n",
    "\n",
    "Functions are made by writing `def <name_of_function>(<parameter1>, .., <parameterN>):` and then write the logic that needs to be encapsulated in the function below that. The parameters have to be provided upon using the function and can be used in the same way as variables in the logic of the function.\n",
    "\n",
    "**Run the next cell to have some functions defined, thus becoming available for use directly afterwards.**\n",
    "\n",
    "Note that putting text between triple quotes (`\"\"\"`) is another way to write comments, useful for longer descriptions."
   ]
  },
  {
   "cell_type": "code",
   "execution_count": null,
   "id": "77b10ea0-e7ad-4941-a0c9-053c753600a9",
   "metadata": {},
   "outputs": [],
   "source": [
    "def get_title_from_metadata(metadata_tree):\n",
    "    \"\"\"\n",
    "        This function returns the title from the text resource metadata.\n",
    "    \"\"\"\n",
    "    # Get all the values from the xpath\n",
    "    titles = metadata_tree.xpath('//cmdp_text:TextResource/cmdp_text:TitleInfo/cmdp_text:title/text()', namespaces=nsmap)\n",
    "    # Check if there is an actual value\n",
    "    if len(titles) > 0:\n",
    "        # Return the first (assuming only) value\n",
    "        return titles[0]\n",
    "\n",
    "def get_description_from_metadata(metadata_tree):\n",
    "    \"\"\"\n",
    "        This function returns the description from the text resource metadata.\n",
    "    \"\"\"\n",
    "    descriptions = metadata_tree.xpath('//cmdp_text:TextResource/cmdp_text:Description/cmdp_text:description/text()', namespaces=nsmap)\n",
    "    if len(descriptions) > 0:\n",
    "        return descriptions[0]\n",
    "    \n",
    "\n",
    "def get_resource_ids_from_metadata(metadata_tree):\n",
    "    \"\"\"\n",
    "        This function returns all resource identifiers from the resource metadata.\n",
    "    \"\"\"\n",
    "    ids = metadata_tree.xpath('//cmdp_text:SubresourceDescription/cmdp_text:IdentificationInfo/cmdp_text:identifier/text()', namespaces=nsmap)\n",
    "    # The result can be any number of identifiers. We do want to filter the values a bit: only the numeric identifiers are useful \n",
    "    # to us so we use the special syntax below to make a new list by picking only the matching values from the query results list\n",
    "    return [id for id in ids if id.isnumeric()]"
   ]
  },
  {
   "cell_type": "markdown",
   "id": "caf2f11f-e7a7-4c22-bddd-02e05f0fea30",
   "metadata": {},
   "source": [
    "In the following cell we will use ('call') the functions for the first time. Run it and see if you understand what is happening."
   ]
  },
  {
   "cell_type": "code",
   "execution_count": null,
   "id": "75ea6a6a-8c0e-4eeb-9193-66dba8d4d530",
   "metadata": {},
   "outputs": [],
   "source": [
    "# Let's try it out!\n",
    "print('Title: ' + get_title_from_metadata(metadata_tree))\n",
    "print('Description: ' + get_description_from_metadata(metadata_tree))\n",
    "print('Resource identifiers: ')\n",
    "print(get_resource_ids_from_metadata(metadata_tree))"
   ]
  },
  {
   "cell_type": "markdown",
   "id": "c6166e12-0c64-4d20-a94e-2452eaca9cf6",
   "metadata": {
    "tags": []
   },
   "source": [
    "----\n",
    "## Exercise 2.2\n",
    "In this exercise we will use the resource identifiers that we can get from metadata file to find the text, and load it so that we can use the content.\n",
    "\n",
    "We will start by defining a function that helps us to get from a numeric identifier, like the ones we managed to extract from the metadata previously, to a file that we have available locally. Note that _in the current environment_ we can safely make the following assumptions:\n",
    "\n",
    "- we have a variable `data_dir` available that gives us the base location (path) where we have our text files\n",
    "- this data directory is organised into sets; we know the identifier of the set that we have metadata for\n",
    "- the directory for each set contains a file called `id_file_map.json` which we can load with a special library called `json`, giving us an in-memory map that we can query to get the file name for a given identifier"
   ]
  },
  {
   "cell_type": "code",
   "execution_count": null,
   "id": "49f5b55d-3050-4344-a91f-384219cc8738",
   "metadata": {},
   "outputs": [],
   "source": [
    "set_id = '9200357'\n",
    "\n",
    "\"\"\"\n",
    "    Here we prepare the look-up of resource files based on the resource identifier\n",
    "\"\"\"\n",
    "import json\n",
    "with open(f'{data_dir}/{set_id}/id_file_map.json', 'r') as id_filename_map_file:\n",
    "    id_filename_map = json.load(id_filename_map_file)\n",
    "    \n",
    "def get_resource_file(identifier):\n",
    "    \"\"\"\n",
    "        A function that looks up the full path to a text resource file based on an identifier\n",
    "        within the current set. If there is no mapping to a file, it returns nothing.\n",
    "    \"\"\"\n",
    "    if identifier in id_filename_map:\n",
    "        filename = id_filename_map[identifier]\n",
    "        return f'{data_dir}/{set_id}/{filename}'"
   ]
  },
  {
   "cell_type": "markdown",
   "id": "d615a764-207d-4146-8a69-549c18f6c6f5",
   "metadata": {},
   "source": [
    "**a)** It would be a good start to have a variable that holds the list of identifiers for the metadata record (= year of newspaper issues) that we are interested in. **Define and set this variable in the next cell.**"
   ]
  },
  {
   "cell_type": "code",
   "execution_count": null,
   "id": "88211d86-6cd4-4d93-a12d-4934d428c157",
   "metadata": {},
   "outputs": [],
   "source": [
    "# In the next line, delete 'None' and complete the line to populate this variable with the list of identifiers \n",
    "# contained in our `metadata tree` (using the the variable and function that we instantiated in part 2.1)\n",
    "identifiers = None\n",
    "\n",
    "# keep the following lines as they are so that we can evaluate the number of identifiers upon running the cell\n",
    "if identifiers:\n",
    "    len(identifiers)"
   ]
  },
  {
   "cell_type": "markdown",
   "id": "8111518a-7141-454c-af8f-657884837598",
   "metadata": {},
   "source": [
    "The output of cell above should read `21`.\n",
    "\n",
    "Now all that we need to do is to 'transform' the list of identifiers into a list of files. This is done in the following cell by means of a special syntax called [list comprehensions](https://docs.python.org/3/tutorial/datastructures.html#list-comprehensions). The way we use it here, it just applies a function to each item in the identifiers list and returns the results as a new list."
   ]
  },
  {
   "cell_type": "code",
   "execution_count": null,
   "id": "cfae3974-2df5-4456-a822-5cd266c55aec",
   "metadata": {},
   "outputs": [],
   "source": [
    "# if all went well, we already did this before :)\n",
    "identifiers = get_resource_ids_from_metadata(metadata_tree)\n",
    "\n",
    "# now we can make a list of files\n",
    "files = [get_resource_file(identifier) for identifier in identifiers]\n",
    "\n",
    "# get the first five files to prevent a lot of output\n",
    "files[0:5]"
   ]
  },
  {
   "cell_type": "markdown",
   "id": "bf12d1e8-fdc6-462b-ba52-a24d933f171b",
   "metadata": {},
   "source": [
    "Note that in the last line, we use another new technique: we select a range from the list so that we keep only part of the original. This does not change the original list, but gives us a 'slice' that we can use on its own. In this case, we just used it to display only the first five files to keep the size of the output to a reasonable limit."
   ]
  },
  {
   "cell_type": "markdown",
   "id": "63dc541a-f4b8-4c94-bcc5-b865708a5e01",
   "metadata": {},
   "source": [
    "Now we are ready to get into the content of the file. Let's define a function that counts the occurences of a word or other text fragment in a file. Read and try to roughly understand the code in the following block, and run it."
   ]
  },
  {
   "cell_type": "code",
   "execution_count": null,
   "id": "8ad13dcc-a409-46bf-9ff6-899b1fd05e7f",
   "metadata": {},
   "outputs": [],
   "source": [
    "def count_occurences(file_path, target):\n",
    "    # We open the file; using the technique, it will be available in the block below it - this guarantees the \n",
    "    # automatic closing of the file\n",
    "    with open(file_path, 'r') as file:\n",
    "        # This is the counter we will increment on each find\n",
    "        count = 0\n",
    "        # Read the file line by line\n",
    "        # Note that 'while True' creates an endless loop! Fortunately we will be able to break out of this when needed\n",
    "        while True:\n",
    "            line = file.readline()\n",
    "            if line:\n",
    "                # Search for the target - first we convert both sides of the equation to lower case to \n",
    "                # effectively make the search case-insensitive\n",
    "                count += str.count(line.lower(), target.lower())\n",
    "            else:\n",
    "                # No line: end of file, break out of the \"endless loop\"\n",
    "                break\n",
    "    return count\n",
    "        \n",
    "count_occurences('/home/jovyan/data/9200357/BibliographicResource_3000095247423.txt', 'front')"
   ]
  },
  {
   "cell_type": "markdown",
   "id": "97117698-6049-435a-a521-50483136c73a",
   "metadata": {},
   "source": [
    "**b)** In the next cell, count the number of occurences of the word 'front' in all the text that we have available via our `files` variable"
   ]
  },
  {
   "cell_type": "code",
   "execution_count": null,
   "id": "f8d016ee-e203-4cf5-9e2d-ed8eb9816038",
   "metadata": {},
   "outputs": [],
   "source": [
    "total_count = 0\n",
    "# Implement count of the text 'front' over all text in `files`\n",
    "# <your implementation here>\n",
    "\n",
    "# And make the final value as a result of the cell\n",
    "total_count"
   ]
  },
  {
   "cell_type": "markdown",
   "id": "ced715dc-9520-4ef0-a1b2-7cf6b11666a6",
   "metadata": {},
   "source": [
    "The cell above should output a total of `275`."
   ]
  },
  {
   "cell_type": "markdown",
   "id": "68e3a1b6-247f-4268-b2f2-9e7fbe9d1235",
   "metadata": {},
   "source": [
    "----\n",
    "Next: [Exercise 3](./Exercise3.ipynb)"
   ]
  }
 ],
 "metadata": {
  "kernelspec": {
   "display_name": "Python 3 (ipykernel)",
   "language": "python",
   "name": "python3"
  },
  "language_info": {
   "codemirror_mode": {
    "name": "ipython",
    "version": 3
   },
   "file_extension": ".py",
   "mimetype": "text/x-python",
   "name": "python",
   "nbconvert_exporter": "python",
   "pygments_lexer": "ipython3",
   "version": "3.7.12"
  }
 },
 "nbformat": 4,
 "nbformat_minor": 5
}
