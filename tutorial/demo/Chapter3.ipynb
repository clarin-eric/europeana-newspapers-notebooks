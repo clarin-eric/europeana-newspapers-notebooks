{
 "cells": [
  {
   "cell_type": "code",
   "execution_count": 1,
   "id": "ae044b98",
   "metadata": {},
   "outputs": [
    {
     "name": "stdout",
     "output_type": "stream",
     "text": [
      "Requirement already satisfied: nbformat in /opt/conda/lib/python3.10/site-packages (5.4.0)\n",
      "Requirement already satisfied: lxml in /opt/conda/lib/python3.10/site-packages (4.8.0)\n",
      "Requirement already satisfied: fastjsonschema in /opt/conda/lib/python3.10/site-packages (from nbformat) (2.15.3)\n",
      "Requirement already satisfied: jsonschema>=2.6 in /opt/conda/lib/python3.10/site-packages (from nbformat) (4.6.0)\n",
      "Requirement already satisfied: jupyter-core in /opt/conda/lib/python3.10/site-packages (from nbformat) (4.10.0)\n",
      "Requirement already satisfied: traitlets>=5.1 in /opt/conda/lib/python3.10/site-packages (from nbformat) (5.2.2.post1)\n",
      "Requirement already satisfied: pyrsistent!=0.17.0,!=0.17.1,!=0.17.2,>=0.14.0 in /opt/conda/lib/python3.10/site-packages (from jsonschema>=2.6->nbformat) (0.18.1)\n",
      "Requirement already satisfied: attrs>=17.4.0 in /opt/conda/lib/python3.10/site-packages (from jsonschema>=2.6->nbformat) (21.4.0)\n"
     ]
    }
   ],
   "source": [
    "!pip install nbformat lxml\n",
    "\n",
    "from lxml import etree"
   ]
  },
  {
   "cell_type": "code",
   "execution_count": 2,
   "id": "f28157ae-a393-4406-8381-c9c1921ca2c0",
   "metadata": {},
   "outputs": [],
   "source": [
    "# Globals\n",
    "from common import _check_task_size, data_dir, metadata_dir, set_id, output_file, unpack_metadata, unzip_file, zip_file\n",
    "# Getters\n",
    "from common import get_liner_output_files_ch3, get_date_from_metadata, get_resource_ids_from_metadata, get_resource_file, get_spellchecked_resources_ch3"
   ]
  },
  {
   "cell_type": "markdown",
   "id": "dc76fdd3-6489-4f92-b590-b2e322e88683",
   "metadata": {},
   "source": [
    "## Named Entity Recognition with Liner2\n",
    "\n",
    "In this section we will present how to use Europeana bibliographic resources with Named Entity Recognition (NER) tool for Polish using [lpmn_client](https://wiki.clarin-pl.eu/en/nlpws/lpmn_client) and [Liner2](https://github.com/CLARIN-PL/Liner2). Due to the server side limitation, we ensure 2M limit on size on the task with function defined below. \n"
   ]
  },
  {
   "cell_type": "code",
   "execution_count": 3,
   "id": "8c493718-6d21-475f-9886-54ce36ef31ca",
   "metadata": {},
   "outputs": [
    {
     "name": "stdout",
     "output_type": "stream",
     "text": [
      "Looking in indexes: https://pypi.clarin-pl.eu\n",
      "Requirement already satisfied: lpmn_client in /opt/conda/lib/python3.10/site-packages (1.4.6)\n",
      "Requirement already satisfied: requests in /opt/conda/lib/python3.10/site-packages (from lpmn_client) (2.27.1)\n",
      "Requirement already satisfied: pyyaml in /opt/conda/lib/python3.10/site-packages (from lpmn_client) (6.0)\n",
      "Requirement already satisfied: tqdm in /opt/conda/lib/python3.10/site-packages (from lpmn_client) (4.64.0)\n",
      "Requirement already satisfied: certifi>=2017.4.17 in /opt/conda/lib/python3.10/site-packages (from requests->lpmn_client) (2022.5.18.1)\n",
      "Requirement already satisfied: idna<4,>=2.5 in /opt/conda/lib/python3.10/site-packages (from requests->lpmn_client) (3.3)\n",
      "Requirement already satisfied: urllib3<1.27,>=1.21.1 in /opt/conda/lib/python3.10/site-packages (from requests->lpmn_client) (1.26.9)\n",
      "Requirement already satisfied: charset-normalizer~=2.0.0 in /opt/conda/lib/python3.10/site-packages (from requests->lpmn_client) (2.0.12)\n"
     ]
    },
    {
     "name": "stderr",
     "output_type": "stream",
     "text": [
      "WARNING:root:Email not provided - using default value. Please, visit https://gitlab.clarin-pl.eu/nlpworkers/lpmn_client for more information.\n"
     ]
    }
   ],
   "source": [
    "\"\"\"\n",
    "    Install lpmn client and import it\n",
    "\"\"\"\n",
    "!pip install -i https://pypi.clarin-pl.eu lpmn_client\n",
    "\n",
    "from lpmn_client import download_file, upload_file\n",
    "from lpmn_client import Task"
   ]
  },
  {
   "cell_type": "markdown",
   "id": "25477234-dba1-4c90-86b5-d2bcf2cea200",
   "metadata": {},
   "source": [
    "### Spellchecking with lpmn client\n",
    "\n",
    "OCR output tends to contains spelling mistakes that adds noise to the data. Below we show how to use lpmn clinet to specify task pipeline in order to obtain spell-checked textual data. "
   ]
  },
  {
   "cell_type": "code",
   "execution_count": 4,
   "id": "9bc2d936-f059-411e-bcc5-4122a9cdaded",
   "metadata": {},
   "outputs": [],
   "source": [
    "\"\"\"\n",
    "    Function for tasking lpmn client with Liner2 NER pipeline with task size control \n",
    "\"\"\"\n",
    "\n",
    "def lpmn_client_task(resources, task, names=[]):\n",
    "    \"\"\"\n",
    "        Wrap over CLARIN-PL lpmn client with control of the task size in order to avoid jamming the task queue on the server side\n",
    "        \n",
    "        :param list resources: list of paths to the resources to be processed\n",
    "        :param str task: string defining pipeline, e.g. \"speller2\" or \"\"\n",
    "        :param list names: optional list of names for output files, has to be same length as resources\n",
    "        :returns list: list of paths to the output zip files\n",
    "    \"\"\"\n",
    "    \n",
    "    # Size check\n",
    "    _check_task_size(resources)\n",
    "    # Upload reasources to task queue\n",
    "    job_ids = [upload_file(resource_file) for resource_file in resources]\n",
    "    # Specify pipeline \n",
    "    t = Task(task)\n",
    "    # Run uploaded tasks with pipeline\n",
    "    output_file_ids = [t.run(job_id, verbose=True) for job_id in job_ids]\n",
    "    if names:\n",
    "        output = [download_file(output_file_id, output_file, f\"{filename}.zip\") \n",
    "                         for output_file_id, filename in zip(output_file_ids, names)]\n",
    "    else:\n",
    "        output = [download_file(output_file_id, output_file, f\"{os.path.basename(resource)}.zip\") \n",
    "                         for output_file_id, resource in zip(output_file_ids, resources)]\n",
    "    return output"
   ]
  },
  {
   "cell_type": "code",
   "execution_count": 5,
   "id": "caaf0eb0-9333-480f-9f08-985e16ced020",
   "metadata": {},
   "outputs": [
    {
     "name": "stdout",
     "output_type": "stream",
     "text": [
      "Retrieving https://europeana-oai.clarin.eu/metadata/fulltext-aggregation/9200357.zip\n",
      "Extracting content in /home/jovyan/temp/metadata/9200357\n",
      "Done\n",
      "[('/home/jovyan/data/9200357/BibliographicResource_3000095241372.txt', datetime.date(1910, 1, 1)), ('/home/jovyan/data/9200357/BibliographicResource_3000095240849.txt', datetime.date(1911, 1, 20)), ('/home/jovyan/data/9200357/BibliographicResource_3000095241292.txt', datetime.date(1911, 1, 6)), ('/home/jovyan/data/9200357/BibliographicResource_3000095240806.txt', datetime.date(1911, 1, 13)), ('/home/jovyan/data/9200357/BibliographicResource_3000095242040.txt', datetime.date(1911, 1, 1)), ('/home/jovyan/data/9200357/BibliographicResource_3000095240930.txt', datetime.date(1911, 1, 27)), ('/home/jovyan/data/9200357/BibliographicResource_3000095241756.txt', datetime.date(1912, 1, 26)), ('/home/jovyan/data/9200357/BibliographicResource_3000095241501.txt', datetime.date(1912, 1, 5)), ('/home/jovyan/data/9200357/BibliographicResource_3000095241903.txt', datetime.date(1912, 1, 1)), ('/home/jovyan/data/9200357/BibliographicResource_3000095242070.txt', datetime.date(1912, 1, 12)), ('/home/jovyan/data/9200357/BibliographicResource_3000095240837.txt', datetime.date(1912, 1, 19)), ('/home/jovyan/data/9200357/BibliographicResource_3000095241288.txt', datetime.date(1913, 1, 3)), ('/home/jovyan/data/9200357/BibliographicResource_3000095241413.txt', datetime.date(1913, 1, 17)), ('/home/jovyan/data/9200357/BibliographicResource_3000095241992.txt', datetime.date(1913, 1, 24)), ('/home/jovyan/data/9200357/BibliographicResource_3000095241127.txt', datetime.date(1913, 1, 31)), ('/home/jovyan/data/9200357/BibliographicResource_3000095241955.txt', datetime.date(1913, 1, 10))]\n"
     ]
    }
   ],
   "source": [
    "\"\"\"\n",
    "    Let's select resources. We will use Izraelita newspapers from 1910-1913 to investigate most frequent Named Entities over the years on January. \n",
    "\"\"\"\n",
    "\n",
    "# Prepare metadata of the collection\n",
    "unpack_metadata(set_id, metadata_dir)\n",
    "izraelita_metadata_files = [f\"{metadata_dir}/Izraelita_1910.xml\",\n",
    "                            f\"{metadata_dir}/Izraelita_1911.xml\",\n",
    "                            f\"{metadata_dir}/Izraelita_1912.xml\",\n",
    "                            f\"{metadata_dir}/Izraelita_1913.xml\",\n",
    "                           ]\n",
    "\n",
    "# Use getters to obtain date and id from metadata\n",
    "izraelita_metadata_trees = [etree.parse(izraelita_metadata_file) for izraelita_metadata_file in izraelita_metadata_files]\n",
    "ids = [get_resource_ids_from_metadata(izraelita_metadata_tree) for izraelita_metadata_tree in izraelita_metadata_trees]\n",
    "dates = [get_date_from_metadata(izraelita_metadata_tree) for izraelita_metadata_tree in izraelita_metadata_trees]\n",
    "\n",
    "# Get all issues from January\n",
    "ids_dates_january = []\n",
    "for _ids, _dates in zip (ids, dates):\n",
    "    year = []\n",
    "    for _id, date in zip(_ids, _dates):\n",
    "        if date.month==1:\n",
    "            year.append((_id, date))\n",
    "    ids_dates_january.append(year)\n",
    "\n",
    "# Map id to reasource\n",
    "resources_dates = [(get_resource_file(_id), date) for year in ids_dates_january for _id, date in year ]\n",
    "print(resources_dates)"
   ]
  },
  {
   "cell_type": "code",
   "execution_count": null,
   "id": "f490613b-137f-4e44-9fef-db890016c12e",
   "metadata": {},
   "outputs": [],
   "source": []
  },
  {
   "cell_type": "code",
   "execution_count": 6,
   "id": "c3407fbc-f163-454d-89ea-697a218a9cb4",
   "metadata": {},
   "outputs": [
    {
     "data": {
      "text/plain": [
       "['/home/jovyan/data/preprocessed_data/Chapter3/1912-01-05_speller/home%jovyan%data%9200357%BibliographicResource_3000095241501.txt',\n",
       " '/home/jovyan/data/preprocessed_data/Chapter3/1912-01-26_speller/home%jovyan%data%9200357%BibliographicResource_3000095241756.txt',\n",
       " '/home/jovyan/data/preprocessed_data/Chapter3/1911-01-06_speller/home%jovyan%data%9200357%BibliographicResource_3000095241292.txt',\n",
       " '/home/jovyan/data/preprocessed_data/Chapter3/1911-01-20_speller/home%jovyan%data%9200357%BibliographicResource_3000095240849.txt',\n",
       " '/home/jovyan/data/preprocessed_data/Chapter3/1911-01-27_speller/home%jovyan%data%9200357%BibliographicResource_3000095240930.txt',\n",
       " '/home/jovyan/data/preprocessed_data/Chapter3/1913-01-24_speller/home%jovyan%data%9200357%BibliographicResource_3000095241992.txt',\n",
       " '/home/jovyan/data/preprocessed_data/Chapter3/1912-01-19_speller/home%jovyan%data%9200357%BibliographicResource_3000095240837.txt',\n",
       " '/home/jovyan/data/preprocessed_data/Chapter3/1912-01-12_speller/home%jovyan%data%9200357%BibliographicResource_3000095242070.txt',\n",
       " '/home/jovyan/data/preprocessed_data/Chapter3/1911-01-13_speller/home%jovyan%data%9200357%BibliographicResource_3000095240806.txt',\n",
       " '/home/jovyan/data/preprocessed_data/Chapter3/1911-01-01_speller/home%jovyan%data%9200357%BibliographicResource_3000095242040.txt',\n",
       " '/home/jovyan/data/preprocessed_data/Chapter3/1911-01-01_speller/.ipynb_checkpoints/home%jovyan%data%9200357%BibliographicResource_3000095242040-checkpoint.txt',\n",
       " '/home/jovyan/data/preprocessed_data/Chapter3/1913-01-10_speller/home%jovyan%data%9200357%BibliographicResource_3000095241955.txt',\n",
       " '/home/jovyan/data/preprocessed_data/Chapter3/1913-01-03_speller/home%jovyan%data%9200357%BibliographicResource_3000095241288.txt',\n",
       " '/home/jovyan/data/preprocessed_data/Chapter3/1913-01-17_speller/home%jovyan%data%9200357%BibliographicResource_3000095241413.txt',\n",
       " '/home/jovyan/data/preprocessed_data/Chapter3/1913-01-31_speller/home%jovyan%data%9200357%BibliographicResource_3000095241127.txt',\n",
       " '/home/jovyan/data/preprocessed_data/Chapter3/1912-01-01_speller/home%jovyan%data%9200357%BibliographicResource_3000095241903.txt']"
      ]
     },
     "execution_count": 6,
     "metadata": {},
     "output_type": "execute_result"
    }
   ],
   "source": [
    "\"\"\"\n",
    "    Let's spell check selected resources\n",
    "\"\"\"\n",
    "\n",
    "# Safety check of the size of all resources meant for the task\n",
    "_check_task_size([resource for resource, _ in resources_dates])\n",
    "\n",
    "# For offline run uncomment block below and comment last line\n",
    "# for resource, date in resources_dates:\n",
    "#     lpmn_client_task([resource], \"speller2\", [f\"{date}_speller\"])\n",
    "# speller2_output_file_paths = [unzip_file(f\"{output_file}/{date}_speller.zip\")[0] for _, date in resources_dates]\n",
    "\n",
    "speller2_output_file_paths = get_spellchecked_resources_ch3()\n",
    "speller2_output_file_paths"
   ]
  },
  {
   "cell_type": "code",
   "execution_count": 7,
   "id": "d2bb3aef-e72e-4799-9f84-a5ce1491455e",
   "metadata": {},
   "outputs": [
    {
     "name": "stderr",
     "output_type": "stream",
     "text": [
      "100%|██████████| 100.0/100 [00:04<00:00, 22.92it/s]\n",
      "100%|██████████| 100.0/100 [00:05<00:00, 17.08it/s]\n",
      "100%|██████████| 100.0/100 [00:05<00:00, 19.04it/s]\n",
      "100%|██████████| 100.0/100 [00:06<00:00, 15.85it/s]\n",
      "100%|██████████| 100.0/100 [00:05<00:00, 17.37it/s]\n",
      "100%|██████████| 100.0/100 [00:04<00:00, 22.95it/s]\n",
      "100%|██████████| 100.0/100 [00:04<00:00, 22.09it/s]\n",
      "100%|██████████| 100.0/100 [00:04<00:00, 22.44it/s]\n",
      "100%|██████████| 100.0/100 [00:05<00:00, 17.12it/s]\n",
      "100%|██████████| 100.0/100 [00:02<00:00, 45.84it/s]\n",
      "100%|██████████| 100.0/100 [00:02<00:00, 43.45it/s]\n",
      "100%|██████████| 100.0/100 [00:05<00:00, 19.95it/s]\n",
      "100%|██████████| 100.0/100 [00:04<00:00, 22.74it/s]\n",
      "100%|██████████| 100.0/100 [00:03<00:00, 27.51it/s]\n",
      "100%|██████████| 100.0/100 [00:04<00:00, 23.11it/s]\n",
      "100%|██████████| 100.0/100 [00:02<00:00, 46.24it/s]\n"
     ]
    }
   ],
   "source": [
    "# Safety check of the size of all resources meant for the task\n",
    "_check_task_size(speller2_output_file_paths)\n",
    "\n",
    "for resource, (_, date) in zip(speller2_output_file_paths, resources_dates):\n",
    "    lpmn_client_task([resource],'any2txt|wcrft2|liner2({\"model\":\"top9\"})', [f\"{date}_liner\"])\n",
    "    \n"
   ]
  },
  {
   "cell_type": "code",
   "execution_count": 8,
   "id": "b3cad33a",
   "metadata": {},
   "outputs": [
    {
     "data": {
      "text/plain": [
       "['/home/jovyan/output/1910-01-01_liner/home%jovyan%data%preprocessed_data%Chapter3%1912-01-05_speller%home%jovyan%data%9200357%BibliographicResource_3000095241501.txt',\n",
       " '/home/jovyan/output/1911-01-20_liner/home%jovyan%data%preprocessed_data%Chapter3%1912-01-26_speller%home%jovyan%data%9200357%BibliographicResource_3000095241756.txt',\n",
       " '/home/jovyan/output/1911-01-06_liner/home%jovyan%data%preprocessed_data%Chapter3%1911-01-06_speller%home%jovyan%data%9200357%BibliographicResource_3000095241292.txt',\n",
       " '/home/jovyan/output/1911-01-13_liner/home%jovyan%data%preprocessed_data%Chapter3%1911-01-20_speller%home%jovyan%data%9200357%BibliographicResource_3000095240849.txt',\n",
       " '/home/jovyan/output/1911-01-01_liner/home%jovyan%data%preprocessed_data%Chapter3%1911-01-27_speller%home%jovyan%data%9200357%BibliographicResource_3000095240930.txt',\n",
       " '/home/jovyan/output/1911-01-27_liner/home%jovyan%data%preprocessed_data%Chapter3%1913-01-24_speller%home%jovyan%data%9200357%BibliographicResource_3000095241992.txt',\n",
       " '/home/jovyan/output/1912-01-26_liner/home%jovyan%data%preprocessed_data%Chapter3%1912-01-19_speller%home%jovyan%data%9200357%BibliographicResource_3000095240837.txt',\n",
       " '/home/jovyan/output/1912-01-05_liner/home%jovyan%data%preprocessed_data%Chapter3%1912-01-12_speller%home%jovyan%data%9200357%BibliographicResource_3000095242070.txt',\n",
       " '/home/jovyan/output/1912-01-01_liner/home%jovyan%data%preprocessed_data%Chapter3%1911-01-13_speller%home%jovyan%data%9200357%BibliographicResource_3000095240806.txt',\n",
       " '/home/jovyan/output/1912-01-12_liner/home%jovyan%data%preprocessed_data%Chapter3%1911-01-01_speller%home%jovyan%data%9200357%BibliographicResource_3000095242040.txt',\n",
       " '/home/jovyan/output/1912-01-19_liner/home%jovyan%data%preprocessed_data%Chapter3%1911-01-01_speller%.ipynb_checkpoints%home%jovyan%data%9200357%BibliographicResource_3000095242040-checkpoint.txt',\n",
       " '/home/jovyan/output/1913-01-03_liner/home%jovyan%data%preprocessed_data%Chapter3%1913-01-10_speller%home%jovyan%data%9200357%BibliographicResource_3000095241955.txt',\n",
       " '/home/jovyan/output/1913-01-17_liner/home%jovyan%data%preprocessed_data%Chapter3%1913-01-03_speller%home%jovyan%data%9200357%BibliographicResource_3000095241288.txt',\n",
       " '/home/jovyan/output/1913-01-24_liner/home%jovyan%data%preprocessed_data%Chapter3%1913-01-17_speller%home%jovyan%data%9200357%BibliographicResource_3000095241413.txt',\n",
       " '/home/jovyan/output/1913-01-31_liner/home%jovyan%data%preprocessed_data%Chapter3%1913-01-31_speller%home%jovyan%data%9200357%BibliographicResource_3000095241127.txt',\n",
       " '/home/jovyan/output/1913-01-10_liner/home%jovyan%data%preprocessed_data%Chapter3%1912-01-01_speller%home%jovyan%data%9200357%BibliographicResource_3000095241903.txt']"
      ]
     },
     "execution_count": 8,
     "metadata": {},
     "output_type": "execute_result"
    }
   ],
   "source": [
    "liner2_output_file_paths = [unzip_file(f\"{output_file}/{date}_liner.zip\")[0] for _, date in resources_dates]\n",
    "liner2_output_file_paths"
   ]
  },
  {
   "cell_type": "code",
   "execution_count": 9,
   "id": "c8dd0567-35b3-43e0-9eb1-68cf7938ef82",
   "metadata": {},
   "outputs": [],
   "source": [
    "\"\"\"\n",
    "    Function for extracting annotations from Liner2 xml output\n",
    "\"\"\"\n",
    "\n",
    "\n",
    "def liner2_xml_to_annotation(xml_tree):\n",
    "    \"\"\"\n",
    "        Converts xml doc into list of annotations and tokens\n",
    "        \n",
    "        :param str path_to_xml: path to .xml Liner2 output file\n",
    "        :returns list: list of tuples (annotation_type, [tokens])\n",
    "    \"\"\"\n",
    "\n",
    "    sentences = xml_tree.xpath(\"//sentence\")\n",
    "    annotated_tokens = [sentence.xpath(\"./tok[./ann!=0]\") for sentence in sentences]\n",
    "    # Prune empty lists\n",
    "    annotated_tokens = filter(lambda x: True if x else False, annotated_tokens)\n",
    "    annotated_tokens = [_chain_annotations(sentence) for sentence in annotated_tokens]\n",
    "    return annotated_tokens\n",
    "        \n",
    "def _chain_annotations(sentence: list):\n",
    "    annotation_heads = [token.xpath(\"./ann[@head]\") for token in sentence]\n",
    "    for token in annotation_heads:\n",
    "        for annotation_head in token:\n",
    "            annotation_channel = annotation_head.xpath(\"./text()\")[0]\n",
    "            annotation_type = annotation_head.get(\"chan\")\n",
    "            annotation_tokens = [token.xpath(\"./lex/base/text()\")[0] for token in sentence if token.xpath(f\"./ann[text()={annotation_channel}]\")]\n",
    "    return annotation_type, annotation_tokens"
   ]
  },
  {
   "cell_type": "code",
   "execution_count": 20,
   "id": "4eb08a86",
   "metadata": {},
   "outputs": [],
   "source": [
    "\"\"\"\n",
    "    Parse NER output and investigate 10 most common named entities by years\n",
    "\"\"\"\n",
    "\n",
    "from collections import Counter\n",
    "import os\n",
    "\n",
    "named_entities_counts = {}\n",
    "for _, date in resources_dates:\n",
    "    for root, _, files in os.walk(f\"{output_file}/{date}_liner\"):\n",
    "        for filename in files:\n",
    "            path_to_annotated_output = os.path.join(root, filename)\n",
    "            xml_tree = etree.parse(path_to_annotated_output)\n",
    "            # Get stats\n",
    "            token_nb = sum([1 for _ in xml_tree.xpath(\"//tok\")])\n",
    "            annotation_list = liner2_xml_to_annotation(xml_tree)\n",
    "            annotation_counts = Counter(f\"{annotation_type}|{' '.join(annotation_tokens)}\" for annotation_type, annotation_tokens in annotation_list)\n",
    "            if date.year in named_entities_counts.keys():\n",
    "                named_entities_counts[date.year].append((token_nb, annotation_counts))\n",
    "            else:\n",
    "                named_entities_counts[date.year] = [(token_nb, annotation_counts)]\n",
    "most_common_overall = {year: (sum([token_nb for token_nb, _ in named_entities_counts[year]]), \n",
    "                              sum([counter for _, counter in named_entities_counts[year]], Counter()).most_common(10)\n",
    "                             ) for year in named_entities_counts.keys()}"
   ]
  },
  {
   "cell_type": "code",
   "execution_count": 21,
   "id": "fac5f9ca-884f-4e6d-ac01-413c1beee0fc",
   "metadata": {},
   "outputs": [
    {
     "data": {
      "text/plain": [
       "{1910: (13791,\n",
       "  [('nam_liv|bóg', 7),\n",
       "   ('nam_loc|Ameryka', 5),\n",
       "   ('nam_loc|Warszawa', 5),\n",
       "   ('nam_adj|polski', 4),\n",
       "   ('nam_liv|Jan', 4),\n",
       "   ('nam_adj|żydowski', 3),\n",
       "   ('nam_liv|Nobel', 3),\n",
       "   ('nam_loc|cesarstwo', 2),\n",
       "   ('nam_liv|Leon Lichtenbaum', 2),\n",
       "   ('nam_liv|Ania', 2)]),\n",
       " 1911: (87538,\n",
       "  [('nam_loc|Warszawa', 38),\n",
       "   ('nam_loc|Polska', 25),\n",
       "   ('nam_liv|bóg', 21),\n",
       "   ('nam_loc|Izrael', 16),\n",
       "   ('nam_loc|Rosja', 15),\n",
       "   ('nam_liv|Abram', 13),\n",
       "   ('nam_adj|żydowski', 12),\n",
       "   ('nam_liv|Sułkowski', 12),\n",
       "   ('nam_loc|Niemcy', 11),\n",
       "   ('nam_loc|Galicja', 11)]),\n",
       " 1912: (59763,\n",
       "  [('nam_loc|Polska', 24),\n",
       "   ('nam_loc|Warszawa', 21),\n",
       "   ('nam_liv|lambda', 21),\n",
       "   ('nam_loc|Galicja', 19),\n",
       "   ('nam_loc|Rosja', 13),\n",
       "   ('nam_loc|Ameryka', 11),\n",
       "   ('nam_liv|bóg', 11),\n",
       "   ('nam_liv|Sułkowski', 11),\n",
       "   ('nam_org|Polak', 10),\n",
       "   ('nam_liv|Henryk', 10)]),\n",
       " 1913: (58675,\n",
       "  [('nam_liv|Joel', 28),\n",
       "   ('nam_loc|Warszawa', 28),\n",
       "   ('nam_loc|Rumunia', 18),\n",
       "   ('nam_adj|polski', 13),\n",
       "   ('nam_liv|bóg', 12),\n",
       "   ('nam_loc|Hiszpania', 11),\n",
       "   ('nam_adj|żydowski', 11),\n",
       "   ('nam_liv|Jehowa', 10),\n",
       "   ('nam_loc|Kanada', 10),\n",
       "   ('nam_liv|Pan', 9)])}"
      ]
     },
     "execution_count": 21,
     "metadata": {},
     "output_type": "execute_result"
    }
   ],
   "source": [
    "most_common_overall"
   ]
  },
  {
   "cell_type": "code",
   "execution_count": null,
   "id": "f903478f-1c5d-470b-8897-c41ee8cf9145",
   "metadata": {},
   "outputs": [],
   "source": []
  },
  {
   "cell_type": "code",
   "execution_count": null,
   "id": "f8a0f9a9-0af3-492c-a0f7-6c731a9e6bcd",
   "metadata": {},
   "outputs": [],
   "source": []
  },
  {
   "cell_type": "code",
   "execution_count": null,
   "id": "c5e21de5-e927-4493-87f0-dbdbe2d3c5a9",
   "metadata": {},
   "outputs": [],
   "source": []
  },
  {
   "cell_type": "code",
   "execution_count": null,
   "id": "d934f8cc-b063-40c1-bc9b-2aec68c28cf8",
   "metadata": {},
   "outputs": [],
   "source": []
  }
 ],
 "metadata": {
  "kernelspec": {
   "display_name": "Python 3 (ipykernel)",
   "language": "python",
   "name": "python3"
  },
  "language_info": {
   "codemirror_mode": {
    "name": "ipython",
    "version": 3
   },
   "file_extension": ".py",
   "mimetype": "text/x-python",
   "name": "python",
   "nbconvert_exporter": "python",
   "pygments_lexer": "ipython3",
   "version": "3.10.4"
  }
 },
 "nbformat": 4,
 "nbformat_minor": 5
}
