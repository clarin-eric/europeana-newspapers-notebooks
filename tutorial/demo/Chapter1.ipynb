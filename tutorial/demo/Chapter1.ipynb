{
 "cells": [
  {
   "cell_type": "raw",
   "id": "1554ffa3-691a-4183-a5d3-7f0da2e3d818",
   "metadata": {},
   "source": [
    "## XML and CMDI introduction (maybe VLO as well, as its our proxy for the metadata)\n",
    "\n",
    "In this notebook you will:\n",
    "- get familiar with [.xml](https://en.wikipedia.org/wiki/XML) file structure\n",
    "- get familiar with [CMDI](https://www.clarin.eu/content/component-metadata) metadata format "
   ]
  },
  {
   "cell_type": "markdown",
   "id": "f6207043",
   "metadata": {},
   "source": [
    "### XML basics\n",
    "XML (Extensible Markup Language) is a markup language that does not do anything on its own. Its purpose is to improve machine readibility of data. \n",
    "Below you can see an exemplary XML file, that we will use in following cells for field value access demonstration."
   ]
  },
  {
   "cell_type": "code",
   "execution_count": null,
   "id": "ce479447",
   "metadata": {},
   "outputs": [],
   "source": [
    "!cat \"./example_xml.xml\""
   ]
  },
  {
   "cell_type": "markdown",
   "id": "9dd3aa16",
   "metadata": {},
   "source": [
    "### XPath\n",
    "[XPath](https://www.w3.org/TR/1999/REC-xpath-19991116/) allows navigation through nodes in an XML document. [lxml](https://lxml.de/) is a Python package, that provides structure for storing XML document tree and support for XPath.\n",
    "\n",
    "Below you can see few examples of accessing nodes of xml file in Python"
   ]
  },
  {
   "cell_type": "code",
   "execution_count": null,
   "id": "e938dea0",
   "metadata": {},
   "outputs": [],
   "source": [
    "# Make sure lxml is installed\n",
    "!pip install lxml"
   ]
  },
  {
   "cell_type": "code",
   "execution_count": null,
   "id": "82aaace6",
   "metadata": {},
   "outputs": [],
   "source": [
    "# Parse xml file into lxml's element tree\n",
    "from lxml import etree\n",
    "\n",
    "\n",
    "def print_xml(tree, declaration: bool = False):\n",
    "    print(etree.tostring(tree, encoding='UTF-8', xml_declaration=declaration, pretty_print=True).decode())\n",
    "\n",
    "xml_tree = etree.parse(\"./example_xml.xml\")\n",
    "\n",
    "# Let's print\n",
    "print(xml_tree)\n",
    "print_xml(xml_tree)"
   ]
  },
  {
   "cell_type": "markdown",
   "id": "9c142c91",
   "metadata": {},
   "source": [
    "Below we will present short example of xPath usage with ElementTree"
   ]
  },
  {
   "cell_type": "code",
   "execution_count": null,
   "id": "3b77a620",
   "metadata": {},
   "outputs": [],
   "source": [
    "\"\"\"\n",
    "    Select nodes and values\n",
    "\"\"\"\n",
    "students = xml_tree.xpath(\"//student\")\n",
    "\n",
    "# We obtain a list of elements\n",
    "students"
   ]
  },
  {
   "cell_type": "code",
   "execution_count": null,
   "id": "febc6db1",
   "metadata": {},
   "outputs": [],
   "source": [
    "# We can explore content of elements\n",
    "\n",
    "for student in students:\n",
    "    print(f\"Tag: {student.tag}\")\n",
    "    print(f\"Attributes: {student.attrib}\")\n",
    "    print(f\"Tree:\\n{etree.tostring(student, encoding='UTF-8', xml_declaration=True, pretty_print=True).decode()}\")\n"
   ]
  },
  {
   "cell_type": "code",
   "execution_count": null,
   "id": "42922cb9",
   "metadata": {},
   "outputs": [],
   "source": [
    "for student in students:\n",
    "    # Extract attribute value\n",
    "    student_id = student.get(\"id\")\n",
    "    # find textual values of children nodes\n",
    "    first_name = student.xpath(\"//firstName/text()\")\n",
    "    last_name = student.xpath(\"//lastName/text()\")\n",
    "    print(f\"ID: {student_id}\\tName: {' '.join(first_name)} {' '.join(last_name)}\")"
   ]
  },
  {
   "cell_type": "markdown",
   "id": "5004df24",
   "metadata": {},
   "source": [
    "Note, that in an example above XPath call to `//firstName/text()` finds all occurences of first and last name in all student Elements. In order to select nodes relative to the Element use `./` at the beginning of the XPath."
   ]
  },
  {
   "cell_type": "code",
   "execution_count": null,
   "id": "fc681beb",
   "metadata": {},
   "outputs": [],
   "source": [
    "for student in students:\n",
    "    student_id = student.get(\"id\")\n",
    "    first_name = student.xpath(\"./firstName/text()\")\n",
    "    last_name = student.xpath(\"./lastName/text()\")\n",
    "    print(f\"ID: {student_id}\\tName: {' '.join(first_name)} {' '.join(last_name)}\")"
   ]
  },
  {
   "cell_type": "markdown",
   "id": "8dba15a5",
   "metadata": {},
   "source": [
    "We can build conditional statements on children values and attribute values using `[]`"
   ]
  },
  {
   "cell_type": "code",
   "execution_count": null,
   "id": "7bd3932d",
   "metadata": {},
   "outputs": [],
   "source": [
    "\"\"\"\n",
    "    XPath and conditioning on attributes and values\n",
    "\"\"\"\n",
    "\n",
    "# All students that obtained 40<= points have passed\n",
    "students_that_passed = xml_tree.xpath(\"//student[./scores/homework1 >= 40 and ./scores/homework2 >= 40 and ./scores/project >= 40]\")\n",
    "for student in students_that_passed:\n",
    "    print_xml(student)"
   ]
  },
  {
   "cell_type": "code",
   "execution_count": null,
   "id": "7875eaa7",
   "metadata": {},
   "outputs": [],
   "source": [
    "# Select all students with id>1, note that id being string XPath allows polymorphism on attributes and node values\n",
    "students_with_required_id = xml_tree.xpath(\"./student[@id > 1]\")\n",
    "for student in students_with_required_id:\n",
    "    print_xml(student)"
   ]
  },
  {
   "cell_type": "markdown",
   "id": "72e13c42",
   "metadata": {},
   "source": [
    "### Namespaces, schemas and CMDI\n",
    "\n",
    "#TODO anything on VLO? \n",
    "XML document allows for multiple schemas and namespaces to be used within a single document, which helps with agregating information from multiple sources, or providing it in parallel formats. However, when present, XPath requires explicit mapping of namespaces to Uniform Resource Identifirer (URI).\n",
    "\n",
    "Let's look into real world example of the metadata we will stumble across further in this tutorial. Let's look into [CMDI](https://www.clarin.eu/content/component-metadata) metadata description of available OCR data from Latvian newspaper Valmieras Ziņojumu Lapa. "
   ]
  },
  {
   "cell_type": "code",
   "execution_count": null,
   "id": "3cb063c2",
   "metadata": {},
   "outputs": [],
   "source": [
    "# Let's explore \n",
    "xml_tree = etree.parse(\"./example_cmdi.xml\")\n",
    "print_xml(xml_tree, True)"
   ]
  },
  {
   "cell_type": "markdown",
   "id": "defc7638",
   "metadata": {},
   "source": [
    "Let's focus on the xml document declaration:\n",
    "```xml\n",
    "<?xml version='1.0' encoding='UTF-8'?>\n",
    "<cmd:CMD xmlns:cmd=\"http://www.clarin.eu/cmd/1\" xmlns=\"http://www.clarin.eu/cmd/1/profiles/clarin.eu:cr1:p_1639731773869\" xmlns:xsi=\"http://www.w3.org/2001/XMLSchema-instance\" CMDVersion=\"1.2\" xsi:schemaLocation=\"http://www.clarin.eu/cmd/1         http://infra.clarin.eu/CMDI/1.x/xsd/cmd-envelop.xsd         http://www.clarin.eu/cmd/1/profiles/clarin.eu:cr1:p_1639731773869         https://catalog.clarin.eu/ds/ComponentRegistry/rest/registry/1.x/profiles/clarin.eu:cr1:p_1639731773869/xsd\">\n",
    "```\n",
    "\n",
    "`xmlns:` allows for namespace declaration. Default namespace (if none present) is declared by `xmlns`.\n",
    "\n",
    "XPath does not support implicit default namespace. In order to explore ElementTree with namespaces, we need to pass mapping explicitly.  "
   ]
  },
  {
   "cell_type": "code",
   "execution_count": null,
   "id": "26b6a198",
   "metadata": {},
   "outputs": [],
   "source": [
    "print(f\"That does not work: {xml_tree.xpath('//Language/code/text()')}\")\n",
    "\n",
    "# Just specify artificial default namespace\n",
    "nsmap = {\"cmd\": \"http://www.clarin.eu/cmd/1\",\n",
    "         \"dft\": \"http://www.clarin.eu/cmd/1/profiles/clarin.eu:cr1:p_1639731773869\"}\n",
    "\n",
    "print(f\"That does work: {xml_tree.xpath('//dft:Language/dft:code/text()', namespaces=nsmap)}\")"
   ]
  },
  {
   "cell_type": "markdown",
   "id": "a051666a",
   "metadata": {},
   "source": [
    "Let's explore the collection metadata"
   ]
  },
  {
   "cell_type": "code",
   "execution_count": null,
   "id": "5ef3dff3",
   "metadata": {},
   "outputs": [],
   "source": [
    "print(xml_tree.xpath('//dft:Description/dft:description/text()', namespaces=nsmap))"
   ]
  },
  {
   "cell_type": "code",
   "execution_count": null,
   "id": "c4d55d53",
   "metadata": {},
   "outputs": [],
   "source": [
    "resource_list = xml_tree.xpath('//cmd:ResourceProxyList', namespaces=nsmap)"
   ]
  },
  {
   "cell_type": "code",
   "execution_count": null,
   "id": "ed83a8f4",
   "metadata": {},
   "outputs": [],
   "source": [
    "resource_list = resource_list[0]\n",
    "print_xml(resource_list, True)"
   ]
  },
  {
   "cell_type": "markdown",
   "id": "39e7fc81",
   "metadata": {},
   "source": [
    "We can access metadata about resources by year of the issue."
   ]
  },
  {
   "cell_type": "code",
   "execution_count": null,
   "id": "b3ede232",
   "metadata": {},
   "outputs": [],
   "source": [
    "resource_id = resource_list.xpath(\"./cmd:ResourceProxy[./cmd:ResourceType/text() = 'Metadata']/@id\", namespaces=nsmap)\n",
    "print(resource_id)"
   ]
  },
  {
   "cell_type": "code",
   "execution_count": null,
   "id": "a342e3b4",
   "metadata": {},
   "outputs": [],
   "source": [
    "_id = resource_id[0]\n",
    "print(f\"Ref ID: {_id}\")\n",
    "ref_1900 = resource_list.xpath(\"./cmd:ResourceProxy[@id = '_1900']/cmd:ResourceRef/text()\", namespaces=nsmap)\n",
    "print(f\"Ref link: {ref_1900}\")\n",
    "ref_1900 = ref_1900[0]"
   ]
  },
  {
   "cell_type": "markdown",
   "id": "8f71855e",
   "metadata": {},
   "source": [
    "We can resolve referenced metadata in order to familiarise ourselves with how metadata links to the underlying bibliographic resources. "
   ]
  },
  {
   "cell_type": "code",
   "execution_count": null,
   "id": "19ea3c65",
   "metadata": {},
   "outputs": [],
   "source": [
    "import requests\n",
    "\n",
    "response = requests.get(ref_1900)\n",
    "xml_tree_1900 = etree.fromstring(response.content)\n",
    "print_xml(xml_tree_1900)"
   ]
  },
  {
   "cell_type": "markdown",
   "id": "fb4d777f",
   "metadata": {},
   "source": [
    "Let's investigate Subresource element of the xml tree"
   ]
  },
  {
   "cell_type": "code",
   "execution_count": null,
   "id": "f2a8f067",
   "metadata": {},
   "outputs": [],
   "source": [
    "nsmap[\"dft\"] = \"http://www.clarin.eu/cmd/1/profiles/clarin.eu:cr1:p_1633000337997\"\n",
    "subresources = xml_tree_1900.xpath(\"//dft:Subresource\", namespaces=nsmap)\n",
    "\n",
    "for subresource in subresources[3]:\n",
    "    print_xml(subresource)"
   ]
  },
  {
   "cell_type": "markdown",
   "id": "a36bd883",
   "metadata": {},
   "source": [
    "Let's select all issues from January 1900 and retrieve their download link"
   ]
  },
  {
   "cell_type": "code",
   "execution_count": null,
   "id": "7946a812",
   "metadata": {},
   "outputs": [],
   "source": [
    "import regex as re"
   ]
  },
  {
   "cell_type": "code",
   "execution_count": null,
   "id": "b90d60b2",
   "metadata": {},
   "outputs": [],
   "source": [
    "january_subresources = [subresource for subresource in subresources \n",
    "                          if subresource.xpath(\"./dft:SubresourceDescription/dft:TemporalCoverage/dft:label[contains(text(), '-01-')]\", namespaces=nsmap)]\n",
    "\n",
    "cmd_refs = [subresource.attrib for subresource in january_subresources]\n",
    "cmd_refs = [subresource.xpath(\"./@cmd:ref\", namespaces=nsmap)[0] for subresource in january_subresources]\n",
    "\n",
    "direct_data_links = [xml_tree_1900.xpath(f\"//cmd:ResourceProxy[@id='{cmd_ref}']/cmd:ResourceRef/text()\", namespaces=nsmap)[0] for cmd_ref in cmd_refs]\n",
    "print(direct_data_links)"
   ]
  },
  {
   "cell_type": "markdown",
   "id": "601448fe",
   "metadata": {},
   "source": [
    "More concrete examples of data retrieval will follow in Chapter 2. Hopefully you got some grasp of the linkage between metadata and textual reasources. "
   ]
  },
  {
   "cell_type": "code",
   "execution_count": null,
   "id": "44e00f1f",
   "metadata": {},
   "outputs": [],
   "source": []
  },
  {
   "cell_type": "code",
   "execution_count": null,
   "id": "2ea93859",
   "metadata": {},
   "outputs": [],
   "source": []
  }
 ],
 "metadata": {
  "kernelspec": {
   "display_name": "Python 3 (ipykernel)",
   "language": "python",
   "name": "python3"
  },
  "language_info": {
   "codemirror_mode": {
    "name": "ipython",
    "version": 3
   },
   "file_extension": ".py",
   "mimetype": "text/x-python",
   "name": "python",
   "nbconvert_exporter": "python",
   "pygments_lexer": "ipython3",
   "version": "3.10.4"
  }
 },
 "nbformat": 4,
 "nbformat_minor": 5
}
