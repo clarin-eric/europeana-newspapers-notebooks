{
 "cells": [
  {
   "cell_type": "markdown",
   "id": "0338b479",
   "metadata": {
    "tags": []
   },
   "source": [
    "# Data selection and resource access\n",
    "\n",
    "In this notebook you will:\n",
    "- filter and collect resources based on properties in the metadata\n",
    "- carry out simple analysis tasks on custom data collections such as counting files or words"
   ]
  },
  {
   "cell_type": "code",
   "execution_count": null,
   "id": "e938dea0",
   "metadata": {},
   "outputs": [],
   "source": [
    "# Make sure that the libraries we will need in this notebook are installed\n",
    "!pip install lxml numpy matplotlib\n",
    "\n",
    "# Define some handy defaults\n",
    "nsmap = {\"cmd\": \"http://www.clarin.eu/cmd/1\",\n",
    "         \"cmdp_text\": \"http://www.clarin.eu/cmd/1/profiles/clarin.eu:cr1:p_1633000337997\"}\n",
    "\n",
    "from os.path import expanduser\n",
    "data_dir = expanduser(\"~\") + '/data'"
   ]
  },
  {
   "cell_type": "markdown",
   "id": "7d266b41-cd0c-42f3-b423-a6f2b5cca2aa",
   "metadata": {},
   "source": [
    "## Retrieving metadata files"
   ]
  },
  {
   "cell_type": "code",
   "execution_count": null,
   "id": "12487963-05e1-4e8c-8db5-b9c115485116",
   "metadata": {},
   "outputs": [],
   "source": [
    "import requests\n",
    "from io import BytesIO\n",
    "from zipfile import ZipFile\n",
    "\n",
    "'''\n",
    "    This function gets and unpacks a metadata archive\n",
    "'''\n",
    "def unpack_metadata(set_id, target_dir):\n",
    "    # Construct the address of the .zip file with the metadata for one set\n",
    "    md_zip_url = f'https://europeana-oai.clarin.eu/metadata/fulltext-aggregation/{set_id}.zip'\n",
    "    \n",
    "    # Retrieve the .zip file\n",
    "    print(f'Retrieving {md_zip_url}')\n",
    "    resp = requests.get(md_zip_url)\n",
    "    zipfile = ZipFile(BytesIO(resp.content))\n",
    "    \n",
    "    # Uncompress the .zip into the target directory\n",
    "    print(f'Extracting content in {target_dir}')\n",
    "    zipfile.extractall(path=target_dir)\n",
    "    print('Done')\n",
    "    \n",
    "# We now call the function for the set of Polish newspapers and \n",
    "# extract them in a temporary directory so that we can use it.\n",
    "import os\n",
    "set_id = '9200357' # Poland\n",
    "metadata_dir = f'{os.path.expanduser(\"~\")}/work/temp/metadata/{set_id}'\n",
    "unpack_metadata(set_id, metadata_dir)"
   ]
  },
  {
   "cell_type": "markdown",
   "id": "6bc2fa0b-94ae-4935-8b0b-ec12ab439e26",
   "metadata": {},
   "source": [
    "## Data segmentation using metadata properties\n",
    "Now we have the metadata available, we want to use the properties in the metadata to create useful data segments. The metadata tells us, for instance, the year of publication of each newspaper. \n",
    "\n",
    "Thus, we can narrow down our selection of text files and at the same time, using the resource identifiers that are also found in the metadata, create a 'map' that allows us to look up specific files based on a property we are interested in - in this case, the year of publication."
   ]
  },
  {
   "cell_type": "code",
   "execution_count": null,
   "id": "7e183b84-e5c0-4d4e-a790-ba8725eaa90e",
   "metadata": {},
   "outputs": [],
   "source": [
    "from lxml import etree\n",
    "\n",
    "'''\n",
    "    This function returns the publication year and resource identifiers for a metadata record.\n",
    "    If the record is not a text resource record, it returns nothing\n",
    "'''\n",
    "def get_year_and_ids(record_file):\n",
    "    xml_tree = etree.parse(record_file)\n",
    "    text_resource_root_node = xml_tree.xpath('//cmd:Components/cmdp_text:TextResource', namespaces=nsmap)\n",
    "\n",
    "    if len(text_resource_root_node) < 1:\n",
    "        # Metadata in file is not for a text resource...\n",
    "        return None\n",
    "    else:\n",
    "        # Get the temporal coverage information\n",
    "        year_text_node = xml_tree.xpath(\n",
    "            '//cmdp_text:TextResource/cmdp_text:TemporalCoverage/cmdp_text:Start/cmdp_text:year/text()', namespaces=nsmap)\n",
    "        if len(year_text_node) < 1:\n",
    "            # No publication year found... this is unexpected!\n",
    "            print(f'Warning: year information not found in {record_file}')\n",
    "            return None\n",
    "        else:\n",
    "            year = year_text_node[0]\n",
    "            # get the record identifiers\n",
    "            record_ids_text_nodes = xml_tree.xpath(\n",
    "                '//cmdp_text:SubresourceDescription/cmdp_text:IdentificationInfo/cmdp_text:identifier/text()', namespaces=nsmap)\n",
    "            \n",
    "            # we only want the numeric identifiers...\n",
    "            record_numeric_ids = [id for id \n",
    "                                  in record_ids_text_nodes \n",
    "                                  if id.isnumeric()]\n",
    "            \n",
    "            # return the information found in the record as a tuple\n",
    "            return(year, record_numeric_ids)    \n",
    "\n",
    "\n",
    "# Trying it out on a single file that we know to be there...\n",
    "sample_file = f'{metadata_dir}/Ilustrowany_Dziennik_Ludowy_1939.xml'\n",
    "get_year_and_ids(sample_file)"
   ]
  },
  {
   "cell_type": "code",
   "execution_count": null,
   "id": "1af4344a-1249-44cd-a5ad-23373d638842",
   "metadata": {},
   "outputs": [],
   "source": [
    "'''\n",
    "    Now we apply the function to all metadata files and construct an 'index'\n",
    "    The index will be a dictionary that has the year as 'key' and a list of \n",
    "'''\n",
    "index = {}\n",
    "years_of_interest = range(1900, 1920)\n",
    "for filename in os.listdir(metadata_dir):\n",
    "    if filename.endswith('.xml'):\n",
    "        info = get_year_and_ids(f'{metadata_dir}/{filename}')\n",
    "        # did we in fact get metadata for a text resource?\n",
    "        if info:\n",
    "            # break down the info\n",
    "            (year, ids) = info\n",
    "            if int(year) in years_of_interest: # int(year) gives us a numeric value needed to check against range\n",
    "                # add to our index\n",
    "                if not year in index: # does the index have an entry for the year?\n",
    "                    # if not, make the entry\n",
    "                    index[year] = []\n",
    "                # append the identifiers to the entry\n",
    "                index[year] += ids\n",
    "\n",
    "# summarize our index: (year, id count)\n",
    "[(year, len(index[year]))for year in sorted(index.keys())]"
   ]
  },
  {
   "cell_type": "markdown",
   "id": "1af8bc93-3a62-4ddc-8e86-7395b69da4b4",
   "metadata": {},
   "source": [
    "## Accessing the resources for simple data analysis\n",
    "In this section we will go beyond the metadata and access the text resource files themselves. The identifiers found in the metadata can be looked up to reliably locate the resource file. Once we know where to find the file, we can read it programmatically, which is the basis for any kind of analysis or further processing."
   ]
  },
  {
   "cell_type": "code",
   "execution_count": null,
   "id": "f4a87643-15cc-4ee0-85da-43d099518b20",
   "metadata": {},
   "outputs": [],
   "source": [
    "'''\n",
    "    Here we will prepare the look-up of resource files based on resource identifier\n",
    "'''\n",
    "import json\n",
    "with open(f'{data_dir}/{set_id}/id_file_map.json', 'r') as id_filename_map_file:\n",
    "    id_filename_map = json.load(id_filename_map_file)\n",
    "\n",
    "'''\n",
    "    A function that looks up the full path to a text resource file based on an identifier\n",
    "    within the current set. If there is no mapping to a file, it returns nothing.\n",
    "'''\n",
    "def get_resource_file(identifier):\n",
    "    if identifier in id_filename_map:\n",
    "        filename = id_filename_map[identifier]\n",
    "        return f'{data_dir}/{set_id}/{filename}'\n",
    "\n",
    "\n",
    "# Trying it out on the first identifier for a specific year in our index\n",
    "get_resource_file(index['1900'][0])"
   ]
  },
  {
   "cell_type": "markdown",
   "id": "7a24a8df-458c-49db-a38a-3f6fdcd9643c",
   "metadata": {},
   "source": [
    "### Defining a simple analysis"
   ]
  },
  {
   "cell_type": "code",
   "execution_count": null,
   "id": "7be439a8-7175-4f2d-bf62-9842e396018a",
   "metadata": {},
   "outputs": [],
   "source": [
    "'''\n",
    "    A function that carries out a very simple analysis on a file: count the words.\n",
    "    Here we define word as any white-space separated group of one or more characters.\n",
    "'''\n",
    "def count_words(filename):\n",
    "    if os.path.exists(filename):\n",
    "        # open the file\n",
    "        with open(filename, 'r') as file:\n",
    "            # gather the number of words per line\n",
    "            words_per_line = [len(str.split(line)) # splitting the text of the line and counting the items does the job for us!\n",
    "                              for line\n",
    "                              in file.readlines()]\n",
    "            # return the sum\n",
    "            return sum(words_per_line)\n",
    "\n",
    "# Try it out on a random file\n",
    "test_filename = get_resource_file(index['1900'][0])\n",
    "count_words(test_filename)"
   ]
  },
  {
   "cell_type": "code",
   "execution_count": null,
   "id": "e7b839ad-9637-4c05-beca-42bae3aa0bb3",
   "metadata": {},
   "outputs": [],
   "source": [
    "'''\n",
    "    Now let's do this on all files in our index, and store the results per year.\n",
    "    \n",
    "    Note: this can take a while!\n",
    "'''\n",
    "\n",
    "# We use the 'NumPy' library because this makes it much easier to work with numeric data arrays\n",
    "import numpy as np\n",
    "\n",
    "counts_index = {}\n",
    "for year in sorted(index.keys()):\n",
    "    counts = [count_words(get_resource_file(identifier)) \n",
    "                          for identifier\n",
    "                          in index[year]]\n",
    "    \n",
    "    # Wrap the counts in a NumPy array\n",
    "    np_counts = np.array(counts)\n",
    "\n",
    "    # Finally, exclude 'None' and '0' counts (which happen if the resource is not available)\n",
    "    # and store the result in the index\n",
    "    counts_index[year] = np_counts[np_counts.nonzero()]\n",
    "\n",
    "print('Done')"
   ]
  },
  {
   "cell_type": "markdown",
   "id": "f722fdda-daea-43da-a3f7-c93ee9b4f97e",
   "metadata": {},
   "source": [
    "### Simple statistics on our data"
   ]
  },
  {
   "cell_type": "code",
   "execution_count": null,
   "id": "9075d6da-b743-4612-aac3-710ca18cb346",
   "metadata": {},
   "outputs": [],
   "source": [
    "'''\n",
    "    Now we can get some statistics out of our index counts!\n",
    "'''\n",
    "print('Total words for each year:')\n",
    "print([(year, counts_index[year].sum()) for year in counts_index])\n",
    "\n",
    "print('')\n",
    "\n",
    "print('Maximum number of words per issue for each year:')\n",
    "print([(year, counts_index[year].max()) for year in counts_index])\n",
    "\n",
    "print('')\n",
    "\n",
    "print('Average words per issue for each year:')\n",
    "print([(year, round(counts_index[year].mean())) for year in counts_index])\n"
   ]
  },
  {
   "cell_type": "markdown",
   "id": "525c9d42-893c-4bc5-960a-a271a225a01f",
   "metadata": {},
   "source": [
    "### Data visualization example"
   ]
  },
  {
   "cell_type": "code",
   "execution_count": null,
   "id": "9e7c1d4f-7c7d-4eeb-ab27-e9f44be5870b",
   "metadata": {},
   "outputs": [],
   "source": [
    "'''\n",
    "    We're using Pyplot to plot a chart of the average issue word count per year in our data set\n",
    "'''\n",
    "\n",
    "import matplotlib.pyplot as plt\n",
    "\n",
    "years = [int(year) for year in counts_index.keys()]\n",
    "averages = [round(counts_index[year].mean()) for year in counts_index]\n",
    "\n",
    "# create a figure\n",
    "fig, ax = plt.subplots()\n",
    "\n",
    "# position data on axes\n",
    "ax.bar(years, averages)\n",
    "\n",
    "# set labels and tweak label rendering on axes\n",
    "plt.xlabel('Year')\n",
    "plt.ylabel('Word count (avg)')\n",
    "plt.xticks(years, counts_index.keys(), rotation=45)\n",
    "\n",
    "# show the plot\n",
    "plt.show()"
   ]
  }
 ],
 "metadata": {
  "kernelspec": {
   "display_name": "Python 3 (ipykernel)",
   "language": "python",
   "name": "python3"
  },
  "language_info": {
   "codemirror_mode": {
    "name": "ipython",
    "version": 3
   },
   "file_extension": ".py",
   "mimetype": "text/x-python",
   "name": "python",
   "nbconvert_exporter": "python",
   "pygments_lexer": "ipython3",
   "version": "3.10.4"
  }
 },
 "nbformat": 4,
 "nbformat_minor": 5
}
